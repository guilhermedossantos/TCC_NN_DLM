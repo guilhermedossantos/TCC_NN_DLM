{
  "nbformat": 4,
  "nbformat_minor": 0,
  "metadata": {
    "colab": {
      "name": "Untitled8.ipynb",
      "provenance": [],
      "authorship_tag": "ABX9TyOLzHVT/EsV6Ynl35ZDFWUj",
      "include_colab_link": true
    },
    "kernelspec": {
      "name": "python3",
      "display_name": "Python 3"
    }
  },
  "cells": [
    {
      "cell_type": "markdown",
      "metadata": {
        "id": "view-in-github",
        "colab_type": "text"
      },
      "source": [
        "<a href=\"https://colab.research.google.com/github/guilhermedossantos/TCC_NN_SARIMA/blob/master/script_teste.ipynb\" target=\"_parent\"><img src=\"https://colab.research.google.com/assets/colab-badge.svg\" alt=\"Open In Colab\"/></a>"
      ]
    },
    {
      "cell_type": "markdown",
      "metadata": {
        "id": "wZG_QTSaY5dJ",
        "colab_type": "text"
      },
      "source": [
        "- Primeiro teste de uma rede em um SARIMA "
      ]
    },
    {
      "cell_type": "code",
      "metadata": {
        "id": "8Lm_gGFGS_QN",
        "colab_type": "code",
        "colab": {}
      },
      "source": [
        "#### SETUP ####\n",
        "# Keras\n",
        "from keras.models import Sequential # modelo\n",
        "from keras.layers import Dense, SimpleRNN, LSTM, Reshape # camadas\n",
        "from keras.callbacks import EarlyStopping # early stopping\n",
        "\n",
        "# scaler\n",
        "from sklearn.preprocessing import MinMaxScaler\n",
        "\n",
        "# Importação do arquivo \n",
        "from google.colab import files # upload de arquivos da máquina\n",
        "import pandas_datareader as web # pacote bem interessante que pode valer a pena explorar (para importação de dados de diversar fontes)\n",
        "\n",
        "# Gerais\n",
        "import numpy as np\n",
        "import pandas as pd\n",
        "import matplotlib.pyplot as plt\n",
        "import scipy.stats as stats # usado no qq-plot\n",
        "import plotly.tools as tls # para tentativa de converter mpl to plotly\n",
        "\n",
        "# Removendo warnings\n",
        "import warnings\n",
        "warnings.filterwarnings('ignore') # tem também a opção 'once' para mostrar apenas uma vez"
      ],
      "execution_count": 0,
      "outputs": []
    },
    {
      "cell_type": "code",
      "metadata": {
        "id": "FYwpzi9rT4Fy",
        "colab_type": "code",
        "colab": {
          "base_uri": "https://localhost:8080/",
          "height": 407
        },
        "outputId": "9a801c55-3f06-4dc2-e9b4-41d739abda9d"
      },
      "source": [
        "serie = pd.read_csv(\"https://raw.githubusercontent.com/guilhermedossantos/TCC_NN_SARIMA/master/serie_sarima.csv\")\n",
        "serie"
      ],
      "execution_count": 33,
      "outputs": [
        {
          "output_type": "execute_result",
          "data": {
            "text/html": [
              "<div>\n",
              "<style scoped>\n",
              "    .dataframe tbody tr th:only-of-type {\n",
              "        vertical-align: middle;\n",
              "    }\n",
              "\n",
              "    .dataframe tbody tr th {\n",
              "        vertical-align: top;\n",
              "    }\n",
              "\n",
              "    .dataframe thead th {\n",
              "        text-align: right;\n",
              "    }\n",
              "</style>\n",
              "<table border=\"1\" class=\"dataframe\">\n",
              "  <thead>\n",
              "    <tr style=\"text-align: right;\">\n",
              "      <th></th>\n",
              "      <th>x</th>\n",
              "    </tr>\n",
              "  </thead>\n",
              "  <tbody>\n",
              "    <tr>\n",
              "      <th>0</th>\n",
              "      <td>-0.281740</td>\n",
              "    </tr>\n",
              "    <tr>\n",
              "      <th>1</th>\n",
              "      <td>-2.822337</td>\n",
              "    </tr>\n",
              "    <tr>\n",
              "      <th>2</th>\n",
              "      <td>-0.385268</td>\n",
              "    </tr>\n",
              "    <tr>\n",
              "      <th>3</th>\n",
              "      <td>0.270453</td>\n",
              "    </tr>\n",
              "    <tr>\n",
              "      <th>4</th>\n",
              "      <td>-0.365296</td>\n",
              "    </tr>\n",
              "    <tr>\n",
              "      <th>...</th>\n",
              "      <td>...</td>\n",
              "    </tr>\n",
              "    <tr>\n",
              "      <th>1195</th>\n",
              "      <td>-1.075860</td>\n",
              "    </tr>\n",
              "    <tr>\n",
              "      <th>1196</th>\n",
              "      <td>0.434046</td>\n",
              "    </tr>\n",
              "    <tr>\n",
              "      <th>1197</th>\n",
              "      <td>-1.894967</td>\n",
              "    </tr>\n",
              "    <tr>\n",
              "      <th>1198</th>\n",
              "      <td>-1.868699</td>\n",
              "    </tr>\n",
              "    <tr>\n",
              "      <th>1199</th>\n",
              "      <td>-2.814389</td>\n",
              "    </tr>\n",
              "  </tbody>\n",
              "</table>\n",
              "<p>1200 rows × 1 columns</p>\n",
              "</div>"
            ],
            "text/plain": [
              "             x\n",
              "0    -0.281740\n",
              "1    -2.822337\n",
              "2    -0.385268\n",
              "3     0.270453\n",
              "4    -0.365296\n",
              "...        ...\n",
              "1195 -1.075860\n",
              "1196  0.434046\n",
              "1197 -1.894967\n",
              "1198 -1.868699\n",
              "1199 -2.814389\n",
              "\n",
              "[1200 rows x 1 columns]"
            ]
          },
          "metadata": {
            "tags": []
          },
          "execution_count": 33
        }
      ]
    },
    {
      "cell_type": "code",
      "metadata": {
        "id": "wx5nqsY0WEIM",
        "colab_type": "code",
        "colab": {
          "base_uri": "https://localhost:8080/",
          "height": 35
        },
        "outputId": "84a59189-d15b-4f97-ff92-d33a3459e66c"
      },
      "source": [
        "x = np.array(serie[0:1199])\n",
        "y = np.array(serie[1:])\n",
        "x.shape\n",
        "y.shape"
      ],
      "execution_count": 45,
      "outputs": [
        {
          "output_type": "execute_result",
          "data": {
            "text/plain": [
              "(1199, 1)"
            ]
          },
          "metadata": {
            "tags": []
          },
          "execution_count": 45
        }
      ]
    },
    {
      "cell_type": "code",
      "metadata": {
        "id": "u-RVpbuEWUK5",
        "colab_type": "code",
        "colab": {
          "base_uri": "https://localhost:8080/",
          "height": 54
        },
        "outputId": "caeca579-2b43-46e1-906c-5a705df6717e"
      },
      "source": [
        "treinox = x[0:1000].reshape((1000,1,1))\n",
        "treinoy = y[0:1000].reshape((1000,1))\n",
        "testex = x[1000:].reshape((-1,1,1))\n",
        "testey = y[1000:].reshape((-1,1,))\n",
        "\n",
        "print(testex.shape)\n",
        "print(testey.shape)"
      ],
      "execution_count": 46,
      "outputs": [
        {
          "output_type": "stream",
          "text": [
            "(199, 1, 1)\n",
            "(199, 1)\n"
          ],
          "name": "stdout"
        }
      ]
    },
    {
      "cell_type": "code",
      "metadata": {
        "id": "xCiYBKgxWcMQ",
        "colab_type": "code",
        "colab": {}
      },
      "source": [
        "model = Sequential()\n",
        "model.add(SimpleRNN(128, activation='relu', input_shape = (1,1)))\n",
        "model.add(Dense(1, activation='linear'))\n",
        "\n",
        "model.compile(loss='mean_squared_error', optimizer = 'adam', metrics=['mape', 'mae', 'mse'])"
      ],
      "execution_count": 0,
      "outputs": []
    },
    {
      "cell_type": "code",
      "metadata": {
        "id": "XtzkQ5FJW8F1",
        "colab_type": "code",
        "colab": {
          "base_uri": "https://localhost:8080/",
          "height": 217
        },
        "outputId": "ab614bbb-eaf3-4ec6-ad6f-6b02b1333812"
      },
      "source": [
        "model.fit(treinox, treinoy, epochs=5)"
      ],
      "execution_count": 48,
      "outputs": [
        {
          "output_type": "stream",
          "text": [
            "Epoch 1/5\n",
            "1000/1000 [==============================] - 0s 216us/step - loss: 151.1319 - mape: 86.1736 - mae: 11.1983 - mse: 151.1319\n",
            "Epoch 2/5\n",
            "1000/1000 [==============================] - 0s 48us/step - loss: 44.2354 - mape: 46.6642 - mae: 5.8503 - mse: 44.2354\n",
            "Epoch 3/5\n",
            "1000/1000 [==============================] - 0s 50us/step - loss: 9.3286 - mape: 24.7396 - mae: 2.4661 - mse: 9.3286\n",
            "Epoch 4/5\n",
            "1000/1000 [==============================] - 0s 49us/step - loss: 4.6580 - mape: 21.8360 - mae: 1.7135 - mse: 4.6580\n",
            "Epoch 5/5\n",
            "1000/1000 [==============================] - 0s 50us/step - loss: 4.6008 - mape: 22.0513 - mae: 1.6966 - mse: 4.6008\n"
          ],
          "name": "stdout"
        },
        {
          "output_type": "execute_result",
          "data": {
            "text/plain": [
              "<keras.callbacks.callbacks.History at 0x7fb7600508d0>"
            ]
          },
          "metadata": {
            "tags": []
          },
          "execution_count": 48
        }
      ]
    },
    {
      "cell_type": "code",
      "metadata": {
        "id": "7acOqP_kZF3s",
        "colab_type": "code",
        "colab": {
          "base_uri": "https://localhost:8080/",
          "height": 54
        },
        "outputId": "f1eb9cd6-847f-44d3-eb5f-30e08f770b0c"
      },
      "source": [
        "model.evaluate(testex,testey)"
      ],
      "execution_count": 49,
      "outputs": [
        {
          "output_type": "stream",
          "text": [
            "199/199 [==============================] - 0s 222us/step\n"
          ],
          "name": "stdout"
        },
        {
          "output_type": "execute_result",
          "data": {
            "text/plain": [
              "[4.92757108523019, 65.60636901855469, 1.7715318202972412, 4.927570819854736]"
            ]
          },
          "metadata": {
            "tags": []
          },
          "execution_count": 49
        }
      ]
    }
  ]
}