{
  "nbformat": 4,
  "nbformat_minor": 0,
  "metadata": {
    "colab": {
      "name": "Untitled8.ipynb",
      "provenance": [],
      "authorship_tag": "ABX9TyNMS498VcWYnwqwbM6O8kcc",
      "include_colab_link": true
    },
    "kernelspec": {
      "name": "python3",
      "display_name": "Python 3"
    }
  },
  "cells": [
    {
      "cell_type": "markdown",
      "metadata": {
        "id": "view-in-github",
        "colab_type": "text"
      },
      "source": [
        "<a href=\"https://colab.research.google.com/github/guilhermedossantos/TCC_NN_SARIMA/blob/master/teste2_regularizando.ipynb\" target=\"_parent\"><img src=\"https://colab.research.google.com/assets/colab-badge.svg\" alt=\"Open In Colab\"/></a>"
      ]
    },
    {
      "cell_type": "markdown",
      "metadata": {
        "id": "wZG_QTSaY5dJ",
        "colab_type": "text"
      },
      "source": [
        "## Primeiro teste de uma rede RNN em um SARIMA \n",
        "\n",
        " - Foi gerado no R um processo $SARIMA(1,0,0)\\times(1,0,0)$"
      ]
    },
    {
      "cell_type": "code",
      "metadata": {
        "id": "8Lm_gGFGS_QN",
        "colab_type": "code",
        "colab": {}
      },
      "source": [
        "#### SETUP ####\n",
        "# Keras\n",
        "from keras.models import Sequential # modelo\n",
        "from keras.layers import Dense, SimpleRNN, LSTM, Reshape # camadas\n",
        "from keras.callbacks import EarlyStopping # early stopping\n",
        "\n",
        "# scaler\n",
        "from sklearn.preprocessing import MinMaxScaler\n",
        "\n",
        "# Importação do arquivo \n",
        "from google.colab import files # upload de arquivos da máquina\n",
        "import pandas_datareader as web # pacote bem interessante que pode valer a pena explorar (para importação de dados de diversar fontes)\n",
        "\n",
        "# Gerais\n",
        "import numpy as np\n",
        "import pandas as pd\n",
        "import matplotlib.pyplot as plt\n",
        "import scipy.stats as stats # usado no qq-plot\n",
        "import plotly.tools as tls # para tentativa de converter mpl to plotly\n",
        "\n",
        "# Removendo warnings\n",
        "import warnings\n",
        "warnings.filterwarnings('ignore') # tem também a opção 'once' para mostrar apenas uma vez"
      ],
      "execution_count": 0,
      "outputs": []
    },
    {
      "cell_type": "code",
      "metadata": {
        "id": "FYwpzi9rT4Fy",
        "colab_type": "code",
        "colab": {
          "base_uri": "https://localhost:8080/",
          "height": 407
        },
        "outputId": "8d419f75-e783-4ee5-87bf-5c1bcb45123d"
      },
      "source": [
        "serie = pd.read_csv(\"https://raw.githubusercontent.com/guilhermedossantos/TCC_NN_SARIMA/master/serie_sarima.csv\")\n",
        "serie"
      ],
      "execution_count": 27,
      "outputs": [
        {
          "output_type": "execute_result",
          "data": {
            "text/html": [
              "<div>\n",
              "<style scoped>\n",
              "    .dataframe tbody tr th:only-of-type {\n",
              "        vertical-align: middle;\n",
              "    }\n",
              "\n",
              "    .dataframe tbody tr th {\n",
              "        vertical-align: top;\n",
              "    }\n",
              "\n",
              "    .dataframe thead th {\n",
              "        text-align: right;\n",
              "    }\n",
              "</style>\n",
              "<table border=\"1\" class=\"dataframe\">\n",
              "  <thead>\n",
              "    <tr style=\"text-align: right;\">\n",
              "      <th></th>\n",
              "      <th>x</th>\n",
              "    </tr>\n",
              "  </thead>\n",
              "  <tbody>\n",
              "    <tr>\n",
              "      <th>0</th>\n",
              "      <td>-0.281740</td>\n",
              "    </tr>\n",
              "    <tr>\n",
              "      <th>1</th>\n",
              "      <td>-2.822337</td>\n",
              "    </tr>\n",
              "    <tr>\n",
              "      <th>2</th>\n",
              "      <td>-0.385268</td>\n",
              "    </tr>\n",
              "    <tr>\n",
              "      <th>3</th>\n",
              "      <td>0.270453</td>\n",
              "    </tr>\n",
              "    <tr>\n",
              "      <th>4</th>\n",
              "      <td>-0.365296</td>\n",
              "    </tr>\n",
              "    <tr>\n",
              "      <th>...</th>\n",
              "      <td>...</td>\n",
              "    </tr>\n",
              "    <tr>\n",
              "      <th>1195</th>\n",
              "      <td>-1.075860</td>\n",
              "    </tr>\n",
              "    <tr>\n",
              "      <th>1196</th>\n",
              "      <td>0.434046</td>\n",
              "    </tr>\n",
              "    <tr>\n",
              "      <th>1197</th>\n",
              "      <td>-1.894967</td>\n",
              "    </tr>\n",
              "    <tr>\n",
              "      <th>1198</th>\n",
              "      <td>-1.868699</td>\n",
              "    </tr>\n",
              "    <tr>\n",
              "      <th>1199</th>\n",
              "      <td>-2.814389</td>\n",
              "    </tr>\n",
              "  </tbody>\n",
              "</table>\n",
              "<p>1200 rows × 1 columns</p>\n",
              "</div>"
            ],
            "text/plain": [
              "             x\n",
              "0    -0.281740\n",
              "1    -2.822337\n",
              "2    -0.385268\n",
              "3     0.270453\n",
              "4    -0.365296\n",
              "...        ...\n",
              "1195 -1.075860\n",
              "1196  0.434046\n",
              "1197 -1.894967\n",
              "1198 -1.868699\n",
              "1199 -2.814389\n",
              "\n",
              "[1200 rows x 1 columns]"
            ]
          },
          "metadata": {
            "tags": []
          },
          "execution_count": 27
        }
      ]
    },
    {
      "cell_type": "code",
      "metadata": {
        "id": "wx5nqsY0WEIM",
        "colab_type": "code",
        "colab": {
          "base_uri": "https://localhost:8080/",
          "height": 35
        },
        "outputId": "5aacfd96-2295-4519-a770-b696287ee0aa"
      },
      "source": [
        "serie_original = serie\n",
        "\n",
        "scaler = MinMaxScaler(feature_range=(0,1))\n",
        "serie = scaler.fit_transform(serie_original)\n",
        "\n",
        "x = np.array(serie[0:1199])\n",
        "y = np.array(serie[1:])\n",
        "x.shape\n",
        "y.shape"
      ],
      "execution_count": 28,
      "outputs": [
        {
          "output_type": "execute_result",
          "data": {
            "text/plain": [
              "(1199, 1)"
            ]
          },
          "metadata": {
            "tags": []
          },
          "execution_count": 28
        }
      ]
    },
    {
      "cell_type": "code",
      "metadata": {
        "id": "u-RVpbuEWUK5",
        "colab_type": "code",
        "colab": {
          "base_uri": "https://localhost:8080/",
          "height": 54
        },
        "outputId": "3e154fd8-6df2-4946-b37f-371dff5f59b2"
      },
      "source": [
        "treinox = x[0:1000].reshape((1000,1,1))\n",
        "treinoy = y[0:1000].reshape((1000,1))\n",
        "testex = x[1000:].reshape((-1,1,1))\n",
        "testey = y[1000:].reshape((-1,1,))\n",
        "\n",
        "print(testex.shape)\n",
        "print(testey.shape)"
      ],
      "execution_count": 29,
      "outputs": [
        {
          "output_type": "stream",
          "text": [
            "(199, 1, 1)\n",
            "(199, 1)\n"
          ],
          "name": "stdout"
        }
      ]
    },
    {
      "cell_type": "code",
      "metadata": {
        "id": "xCiYBKgxWcMQ",
        "colab_type": "code",
        "colab": {}
      },
      "source": [
        "model = Sequential()\n",
        "model.add(SimpleRNN(128, activation='relu', input_shape = (1,1)))\n",
        "model.add(Dense(1, activation='linear'))\n",
        "\n",
        "model.compile(loss='mean_squared_error', optimizer = 'adam', metrics=['mape', 'mae', 'mse'])"
      ],
      "execution_count": 0,
      "outputs": []
    },
    {
      "cell_type": "code",
      "metadata": {
        "id": "XtzkQ5FJW8F1",
        "colab_type": "code",
        "colab": {
          "base_uri": "https://localhost:8080/",
          "height": 217
        },
        "outputId": "bd6fd37e-8387-45a3-b19c-746699aeaa43"
      },
      "source": [
        "model.fit(treinox, treinoy, epochs=5)"
      ],
      "execution_count": 31,
      "outputs": [
        {
          "output_type": "stream",
          "text": [
            "Epoch 1/5\n",
            "1000/1000 [==============================] - 0s 251us/step - loss: 0.2002 - mape: 140142.1250 - mae: 0.4040 - mse: 0.2002\n",
            "Epoch 2/5\n",
            "1000/1000 [==============================] - 0s 77us/step - loss: 0.0256 - mape: 226094.4688 - mae: 0.1256 - mse: 0.0256\n",
            "Epoch 3/5\n",
            "1000/1000 [==============================] - 0s 55us/step - loss: 0.0103 - mape: 277503.5938 - mae: 0.0814 - mse: 0.0103\n",
            "Epoch 4/5\n",
            "1000/1000 [==============================] - 0s 60us/step - loss: 0.0096 - mape: 262359.9375 - mae: 0.0787 - mse: 0.0096\n",
            "Epoch 5/5\n",
            "1000/1000 [==============================] - 0s 64us/step - loss: 0.0090 - mape: 259381.0156 - mae: 0.0764 - mse: 0.0090\n"
          ],
          "name": "stdout"
        },
        {
          "output_type": "execute_result",
          "data": {
            "text/plain": [
              "<keras.callbacks.callbacks.History at 0x7feb025bb518>"
            ]
          },
          "metadata": {
            "tags": []
          },
          "execution_count": 31
        }
      ]
    },
    {
      "cell_type": "code",
      "metadata": {
        "id": "7acOqP_kZF3s",
        "colab_type": "code",
        "colab": {
          "base_uri": "https://localhost:8080/",
          "height": 108
        },
        "outputId": "ffebe2f6-cbfc-44c9-a2d2-8165c6026a4d"
      },
      "source": [
        "model.evaluate(testex,testey)"
      ],
      "execution_count": 32,
      "outputs": [
        {
          "output_type": "stream",
          "text": [
            "199/199 [==============================] - 0s 247us/step\n"
          ],
          "name": "stdout"
        },
        {
          "output_type": "execute_result",
          "data": {
            "text/plain": [
              "[0.008340680391420071,\n",
              " 10.768054008483887,\n",
              " 0.07250042259693146,\n",
              " 0.008340680040419102]"
            ]
          },
          "metadata": {
            "tags": []
          },
          "execution_count": 32
        }
      ]
    },
    {
      "cell_type": "code",
      "metadata": {
        "id": "YeEuQZsRkX4W",
        "colab_type": "code",
        "colab": {}
      },
      "source": [
        "preds = model.predict(testex)\n",
        "preds_original = scaler.inverse_transform(preds)\n",
        "\n",
        "y_original = scaler.inverse_transform(testey)\n",
        "\n",
        "mape = np.mean(abs((y_original - preds_original)/y_original))\n",
        "mae = np.mean(abs(y_original - preds_original))\n",
        "mse = np.mean((y_original - preds_original)**2)\n",
        "\n",
        "\n",
        "print(mape)\n",
        "print(mse)\n",
        "print(mae)"
      ],
      "execution_count": 0,
      "outputs": []
    }
  ]
}