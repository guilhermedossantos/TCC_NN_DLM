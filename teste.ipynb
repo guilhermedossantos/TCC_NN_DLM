{
  "nbformat": 4,
  "nbformat_minor": 0,
  "metadata": {
    "colab": {
      "name": "Untitled8.ipynb",
      "provenance": [],
      "authorship_tag": "ABX9TyOPDnAUEYXqvZEgoDr2jEgu",
      "include_colab_link": true
    },
    "kernelspec": {
      "name": "python3",
      "display_name": "Python 3"
    }
  },
  "cells": [
    {
      "cell_type": "markdown",
      "metadata": {
        "id": "view-in-github",
        "colab_type": "text"
      },
      "source": [
        "<a href=\"https://colab.research.google.com/github/guilhermedossantos/TCC_NN_SARIMA/blob/master/teste.ipynb\" target=\"_parent\"><img src=\"https://colab.research.google.com/assets/colab-badge.svg\" alt=\"Open In Colab\"/></a>"
      ]
    },
    {
      "cell_type": "markdown",
      "metadata": {
        "id": "wZG_QTSaY5dJ",
        "colab_type": "text"
      },
      "source": [
        "## Primeiro teste de uma rede RNN em um SARIMA \n",
        "\n",
        " - Foi gerado no R um processo $SARIMA(1,0,0)\\times(1,0,0)$"
      ]
    },
    {
      "cell_type": "code",
      "metadata": {
        "id": "8Lm_gGFGS_QN",
        "colab_type": "code",
        "colab": {}
      },
      "source": [
        "#### SETUP ####\n",
        "# Keras\n",
        "from keras.models import Sequential # modelo\n",
        "from keras.layers import Dense, SimpleRNN, LSTM, Reshape # camadas\n",
        "from keras.callbacks import EarlyStopping # early stopping\n",
        "\n",
        "# scaler\n",
        "from sklearn.preprocessing import MinMaxScaler\n",
        "\n",
        "# Importação do arquivo \n",
        "from google.colab import files # upload de arquivos da máquina\n",
        "import pandas_datareader as web # pacote bem interessante que pode valer a pena explorar (para importação de dados de diversar fontes)\n",
        "\n",
        "# Gerais\n",
        "import numpy as np\n",
        "import pandas as pd\n",
        "import matplotlib.pyplot as plt\n",
        "import scipy.stats as stats # usado no qq-plot\n",
        "import plotly.tools as tls # para tentativa de converter mpl to plotly\n",
        "\n",
        "# Removendo warnings\n",
        "import warnings\n",
        "warnings.filterwarnings('ignore') # tem também a opção 'once' para mostrar apenas uma vez"
      ],
      "execution_count": 0,
      "outputs": []
    },
    {
      "cell_type": "code",
      "metadata": {
        "id": "FYwpzi9rT4Fy",
        "colab_type": "code",
        "colab": {
          "base_uri": "https://localhost:8080/",
          "height": 407
        },
        "outputId": "2ca7b220-4185-47cf-a59e-879ba316f177"
      },
      "source": [
        "serie = pd.read_csv(\"https://raw.githubusercontent.com/guilhermedossantos/TCC_NN_SARIMA/master/serie_sarima.csv\")\n",
        "serie"
      ],
      "execution_count": 37,
      "outputs": [
        {
          "output_type": "execute_result",
          "data": {
            "text/html": [
              "<div>\n",
              "<style scoped>\n",
              "    .dataframe tbody tr th:only-of-type {\n",
              "        vertical-align: middle;\n",
              "    }\n",
              "\n",
              "    .dataframe tbody tr th {\n",
              "        vertical-align: top;\n",
              "    }\n",
              "\n",
              "    .dataframe thead th {\n",
              "        text-align: right;\n",
              "    }\n",
              "</style>\n",
              "<table border=\"1\" class=\"dataframe\">\n",
              "  <thead>\n",
              "    <tr style=\"text-align: right;\">\n",
              "      <th></th>\n",
              "      <th>x</th>\n",
              "    </tr>\n",
              "  </thead>\n",
              "  <tbody>\n",
              "    <tr>\n",
              "      <th>0</th>\n",
              "      <td>-0.281740</td>\n",
              "    </tr>\n",
              "    <tr>\n",
              "      <th>1</th>\n",
              "      <td>-2.822337</td>\n",
              "    </tr>\n",
              "    <tr>\n",
              "      <th>2</th>\n",
              "      <td>-0.385268</td>\n",
              "    </tr>\n",
              "    <tr>\n",
              "      <th>3</th>\n",
              "      <td>0.270453</td>\n",
              "    </tr>\n",
              "    <tr>\n",
              "      <th>4</th>\n",
              "      <td>-0.365296</td>\n",
              "    </tr>\n",
              "    <tr>\n",
              "      <th>...</th>\n",
              "      <td>...</td>\n",
              "    </tr>\n",
              "    <tr>\n",
              "      <th>1195</th>\n",
              "      <td>-1.075860</td>\n",
              "    </tr>\n",
              "    <tr>\n",
              "      <th>1196</th>\n",
              "      <td>0.434046</td>\n",
              "    </tr>\n",
              "    <tr>\n",
              "      <th>1197</th>\n",
              "      <td>-1.894967</td>\n",
              "    </tr>\n",
              "    <tr>\n",
              "      <th>1198</th>\n",
              "      <td>-1.868699</td>\n",
              "    </tr>\n",
              "    <tr>\n",
              "      <th>1199</th>\n",
              "      <td>-2.814389</td>\n",
              "    </tr>\n",
              "  </tbody>\n",
              "</table>\n",
              "<p>1200 rows × 1 columns</p>\n",
              "</div>"
            ],
            "text/plain": [
              "             x\n",
              "0    -0.281740\n",
              "1    -2.822337\n",
              "2    -0.385268\n",
              "3     0.270453\n",
              "4    -0.365296\n",
              "...        ...\n",
              "1195 -1.075860\n",
              "1196  0.434046\n",
              "1197 -1.894967\n",
              "1198 -1.868699\n",
              "1199 -2.814389\n",
              "\n",
              "[1200 rows x 1 columns]"
            ]
          },
          "metadata": {
            "tags": []
          },
          "execution_count": 37
        }
      ]
    },
    {
      "cell_type": "code",
      "metadata": {
        "id": "wx5nqsY0WEIM",
        "colab_type": "code",
        "colab": {
          "base_uri": "https://localhost:8080/",
          "height": 35
        },
        "outputId": "61370890-2592-45aa-95bc-f64d1f422485"
      },
      "source": [
        "serie_original = serie\n",
        "\n",
        "scaler = MinMaxScaler(feature_range=(0,1))\n",
        "serie = scaler.fit_transform(serie_original)\n",
        "\n",
        "x = np.array(serie[0:1199])\n",
        "y = np.array(serie[1:])\n",
        "x.shape\n",
        "y.shape"
      ],
      "execution_count": 38,
      "outputs": [
        {
          "output_type": "execute_result",
          "data": {
            "text/plain": [
              "(1199, 1)"
            ]
          },
          "metadata": {
            "tags": []
          },
          "execution_count": 38
        }
      ]
    },
    {
      "cell_type": "code",
      "metadata": {
        "id": "u-RVpbuEWUK5",
        "colab_type": "code",
        "colab": {
          "base_uri": "https://localhost:8080/",
          "height": 54
        },
        "outputId": "35bf35ff-7af4-4257-a80d-dd9ab429f4e3"
      },
      "source": [
        "treinox = x[0:1000].reshape((1000,1,1))\n",
        "treinoy = y[0:1000].reshape((1000,1))\n",
        "testex = x[1000:].reshape((-1,1,1))\n",
        "testey = y[1000:].reshape((-1,1,))\n",
        "\n",
        "print(testex.shape)\n",
        "print(testey.shape)"
      ],
      "execution_count": 39,
      "outputs": [
        {
          "output_type": "stream",
          "text": [
            "(199, 1, 1)\n",
            "(199, 1)\n"
          ],
          "name": "stdout"
        }
      ]
    },
    {
      "cell_type": "code",
      "metadata": {
        "id": "xCiYBKgxWcMQ",
        "colab_type": "code",
        "colab": {}
      },
      "source": [
        "model = Sequential()\n",
        "model.add(SimpleRNN(128, activation='relu', input_shape = (1,1)))\n",
        "model.add(Dense(1, activation='linear'))\n",
        "\n",
        "model.compile(loss='mean_squared_error', optimizer = 'adam', metrics=['mape', 'mae', 'mse'])"
      ],
      "execution_count": 0,
      "outputs": []
    },
    {
      "cell_type": "code",
      "metadata": {
        "id": "XtzkQ5FJW8F1",
        "colab_type": "code",
        "colab": {
          "base_uri": "https://localhost:8080/",
          "height": 255
        },
        "outputId": "7da97729-56ed-4cc5-a3a3-06cd5453abc3"
      },
      "source": [
        "model.fit(treinox, treinoy, epochs=5, validation_data=(testex,testey))"
      ],
      "execution_count": 41,
      "outputs": [
        {
          "output_type": "stream",
          "text": [
            "Train on 1000 samples, validate on 199 samples\n",
            "Epoch 1/5\n",
            "1000/1000 [==============================] - 0s 263us/step - loss: 0.1922 - mape: 133996.1250 - mae: 0.3902 - mse: 0.1922 - val_loss: 0.0862 - val_mape: 41.0023 - val_mae: 0.2759 - val_mse: 0.0862\n",
            "Epoch 2/5\n",
            "1000/1000 [==============================] - 0s 60us/step - loss: 0.0205 - mape: 239186.0781 - mae: 0.1129 - mse: 0.0205 - val_loss: 0.0098 - val_mape: 11.6019 - val_mae: 0.0790 - val_mse: 0.0098\n",
            "Epoch 3/5\n",
            "1000/1000 [==============================] - 0s 63us/step - loss: 0.0099 - mape: 265067.6562 - mae: 0.0799 - mse: 0.0099 - val_loss: 0.0087 - val_mape: 11.0220 - val_mae: 0.0742 - val_mse: 0.0087\n",
            "Epoch 4/5\n",
            "1000/1000 [==============================] - 0s 76us/step - loss: 0.0092 - mape: 254021.1562 - mae: 0.0774 - mse: 0.0092 - val_loss: 0.0090 - val_mape: 11.1457 - val_mae: 0.0755 - val_mse: 0.0090\n",
            "Epoch 5/5\n",
            "1000/1000 [==============================] - 0s 69us/step - loss: 0.0087 - mape: 241689.3125 - mae: 0.0751 - mse: 0.0087 - val_loss: 0.0084 - val_mape: 10.7979 - val_mae: 0.0728 - val_mse: 0.0084\n"
          ],
          "name": "stdout"
        },
        {
          "output_type": "execute_result",
          "data": {
            "text/plain": [
              "<keras.callbacks.callbacks.History at 0x7fae5b7afc88>"
            ]
          },
          "metadata": {
            "tags": []
          },
          "execution_count": 41
        }
      ]
    },
    {
      "cell_type": "code",
      "metadata": {
        "id": "7acOqP_kZF3s",
        "colab_type": "code",
        "colab": {
          "base_uri": "https://localhost:8080/",
          "height": 108
        },
        "outputId": "791c567e-e1b8-41fe-cf0e-44badb70f437"
      },
      "source": [
        "model.evaluate(testex,testey)"
      ],
      "execution_count": 42,
      "outputs": [
        {
          "output_type": "stream",
          "text": [
            "199/199 [==============================] - 0s 45us/step\n"
          ],
          "name": "stdout"
        },
        {
          "output_type": "execute_result",
          "data": {
            "text/plain": [
              "[0.008374948559993475,\n",
              " 10.79785442352295,\n",
              " 0.0727582722902298,\n",
              " 0.008374948985874653]"
            ]
          },
          "metadata": {
            "tags": []
          },
          "execution_count": 42
        }
      ]
    },
    {
      "cell_type": "code",
      "metadata": {
        "id": "YeEuQZsRkX4W",
        "colab_type": "code",
        "colab": {
          "base_uri": "https://localhost:8080/",
          "height": 360
        },
        "outputId": "f504e378-edf6-42f0-be04-914b81255e5d"
      },
      "source": [
        "preds = model.predict(testex)\n",
        "preds_original = scaler.inverse_transform(preds)[:150] # para momentos mais a frente a performance do modelo piora\n",
        "\n",
        "y_original = scaler.inverse_transform(testey)[:150]\n",
        "\n",
        "mape = np.mean(abs((y_original - preds_original)/abs(y_original))*100)\n",
        "mae = np.mean(abs(y_original - preds_original))\n",
        "mse = np.mean((y_original - preds_original)**2)\n",
        "\n",
        "\n",
        "print(mape)\n",
        "print(mse)\n",
        "print(mae)\n",
        "\n",
        "plt.plot(y_original)\n",
        "plt.plot(preds_original)\n",
        "\n",
        "print(y_original[-4])\n",
        "print(preds_original[-4])"
      ],
      "execution_count": 43,
      "outputs": [
        {
          "output_type": "stream",
          "text": [
            "24.9336383411099\n",
            "5.787536508150003\n",
            "1.8808374230701839\n",
            "[-9.1261685]\n",
            "[-9.376413]\n"
          ],
          "name": "stdout"
        },
        {
          "output_type": "display_data",
          "data": {
            "image/png": "[encoded data removed]",
            "text/plain": [
              "<Figure size 432x288 with 1 Axes>"
            ]
          },
          "metadata": {
            "tags": [],
            "needs_background": "light"
          }
        }
      ]
    },
    {
      "cell_type": "code",
      "metadata": {
        "id": "jS_OgoCYdvqL",
        "colab_type": "code",
        "colab": {}
      },
      "source": [
        ""
      ],
      "execution_count": 0,
      "outputs": []
    },
    {
      "cell_type": "code",
      "metadata": {
        "id": "DPkyk0RTPMoK",
        "colab_type": "code",
        "colab": {}
      },
      "source": [
        "#model2 = Sequential()\n",
        "#model2.add(SimpleRNN(1, activation='relu', input_shape = (1,1)))\n",
        "#model2.add(Dense(1, activation='linear'))\n",
        "\n",
        "#model2.compile(loss='mean_squared_error', optimizer = 'adam', metrics=['mape', 'mae', 'mse'])"
      ],
      "execution_count": 0,
      "outputs": []
    },
    {
      "cell_type": "code",
      "metadata": {
        "id": "Ea2i-RayPUpX",
        "colab_type": "code",
        "colab": {
          "base_uri": "https://localhost:8080/",
          "height": 399
        },
        "outputId": "2211c8e8-610b-4e78-9e1e-8154a37f3548"
      },
      "source": [
        "#model2.fit(treinox, treinoy, epochs = 10)"
      ],
      "execution_count": 45,
      "outputs": [
        {
          "output_type": "stream",
          "text": [
            "Epoch 1/10\n",
            "1000/1000 [==============================] - 0s 219us/step - loss: 0.2849 - mape: 17834.6543 - mae: 0.5044 - mse: 0.2849\n",
            "Epoch 2/10\n",
            "1000/1000 [==============================] - 0s 44us/step - loss: 0.2543 - mape: 50238.2969 - mae: 0.4732 - mse: 0.2543\n",
            "Epoch 3/10\n",
            "1000/1000 [==============================] - 0s 43us/step - loss: 0.2264 - mape: 86977.6328 - mae: 0.4432 - mse: 0.2264\n",
            "Epoch 4/10\n",
            "1000/1000 [==============================] - 0s 47us/step - loss: 0.2011 - mape: 111488.5312 - mae: 0.4145 - mse: 0.2011\n",
            "Epoch 5/10\n",
            "1000/1000 [==============================] - 0s 44us/step - loss: 0.1785 - mape: 124887.7891 - mae: 0.3870 - mse: 0.1785\n",
            "Epoch 6/10\n",
            "1000/1000 [==============================] - 0s 41us/step - loss: 0.1582 - mape: 161270.4844 - mae: 0.3609 - mse: 0.1582\n",
            "Epoch 7/10\n",
            "1000/1000 [==============================] - 0s 52us/step - loss: 0.1402 - mape: 183948.0000 - mae: 0.3364 - mse: 0.1402\n",
            "Epoch 8/10\n",
            "1000/1000 [==============================] - 0s 48us/step - loss: 0.1244 - mape: 202921.0781 - mae: 0.3133 - mse: 0.1244\n",
            "Epoch 9/10\n",
            "1000/1000 [==============================] - 0s 64us/step - loss: 0.1102 - mape: 228083.4219 - mae: 0.2917 - mse: 0.1102\n",
            "Epoch 10/10\n",
            "1000/1000 [==============================] - 0s 51us/step - loss: 0.0980 - mape: 260685.4062 - mae: 0.2716 - mse: 0.0980\n"
          ],
          "name": "stdout"
        },
        {
          "output_type": "execute_result",
          "data": {
            "text/plain": [
              "<keras.callbacks.callbacks.History at 0x7fae5bd52fd0>"
            ]
          },
          "metadata": {
            "tags": []
          },
          "execution_count": 45
        }
      ]
    },
    {
      "cell_type": "code",
      "metadata": {
        "id": "DV4yIYDxPb4r",
        "colab_type": "code",
        "colab": {}
      },
      "source": [
        "#preds = model2.predict(testex)\n",
        "#preds_original = scaler.inverse_transform(preds)\n",
        "\n",
        "#y_original = scaler.inverse_transform(testey)\n",
        "\n",
        "#mape = np.mean(abs((y_original - preds_original)/y_original)*100)\n",
        "#mae = np.mean(abs(y_original - preds_original))\n",
        "#mse = np.mean((y_original - preds_original)**2)\n",
        "\n",
        "\n",
        "#print(mape)\n",
        "#print(mse)\n",
        "#print(mae)"
      ],
      "execution_count": 0,
      "outputs": []
    }
  ]
}